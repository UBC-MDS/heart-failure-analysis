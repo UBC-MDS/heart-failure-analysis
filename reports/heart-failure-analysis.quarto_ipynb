{
  "cells": [
    {
      "cell_type": "markdown",
      "metadata": {},
      "source": [
        "---\n",
        "title: Heart Failure Survival Analysis\n",
        "jupyter: python3\n",
        "format:\n",
        "  html:\n",
        "    toc: true\n",
        "    toc-depth: 2\n",
        "bibliography: references.bib\n",
        "execute:\n",
        "    echo: false\n",
        "---\n",
        "\n",
        "\n",
        "\n",
        "\n",
        "by Merari Santana, Kevin Gao, Gurmehak Kaur, Yuhan Fan\n",
        "\n",
        "## Summary\n",
        "\n",
        "We built a classification model using the logistic regression algorithm to predict survival outcomes for patients with heart failure. Using patient test results, the final classifier achieves an accuracy of 81.6%. The model’s precision of 70.0% suggests it is moderately conservative in predicting the positive class (death), minimizing false alarms. More importantly, the recall of {python} recall\\ ensures the model identifies the majority of high-risk patients, reducing the likelihood of missing true positive cases, which could have serious consequences. The F1-score of {python} f1\\ reflects a good balance between precision and recall, highlighting the model’s robustness in survival prediction, see @tbl-model-metrics.\n",
        "\n",
        "From the confusion matrix, the model correctly identified {python} TP\\ patients who passed away (true positives) and {python} TN\\ patients who survived (true negatives). However, it also predicted {python} FP\\ false positives, incorrectly classifying some survivors as deceased, and missed {python} FN\\ actual cases of death (false negatives). While these errors warrant consideration, the model’s performance demonstrates strong predictive capabilities for both positive and negative outcomes, see @tbl-confusion-matrix.\n",
        "\n",
        "Overall, the logistic regression classifier effectively leverages patient test results to support survival prediction, providing a valuable tool to aid clinical decision-making in heart failure management.\n",
        "\n",
        "## Introduction\n",
        "\n",
        "Cardiovascular diseases are responsible for approximately 17 million deaths globally each year, with heart failure and myocardial infarctions being the leading contributors to this staggering toll [@chicco2020]. Electronic medical records from patients with heart failure, collected during follow-up care, provide a wealth of data on symptoms, test results, and clinical outcomes. Leveraging this data, our team applies machine learning algorithms to predict patient survival after heart failure. This approach uncovers critical patterns and insights that might otherwise remain hidden from traditional clinical assessments, offering valuable tools to support medical decision-making and improve patient outcomes. \n",
        "\n",
        "## Data \n",
        "\n",
        "We analyzed a dataset containing the medical records of 299 heart failure patients [@dua2017]. The patients consisted of 105 women and 194 men, and their ages range between 40 and 95 years old. The dataset contains 13 features shown in @tbl-patient-table, which report clinical, body, and lifestyle information [@heartfailuredata]. The **death event** was used as the target variable in our binary classification study. It states whether the patient died or survived before the end of the follow-up period, which lasted 130 days on average. Our dataset has a class imbalance where the number of survived patients (death event = 0) is 203 (67.89%) and the number of dead patients (death event = 1) is 96 (32.11%), see @tbl-death-event-counts.\n"
      ],
      "id": "3142c47e"
    },
    {
      "cell_type": "code",
      "metadata": {},
      "source": [
        "#| echo: false\n",
        "#| output: false\n",
        "\n",
        "import pandas as pd\n",
        "import numpy as np\n",
        "import matplotlib.pyplot as plt\n",
        "import altair as alt\n",
        "import altair_ally as aly\n",
        "import os\n",
        "from vega_datasets import data\n",
        "from sklearn import set_config\n",
        "from sklearn.model_selection import (GridSearchCV, cross_validate, train_test_split,)\n",
        "from sklearn.preprocessing import StandardScaler, OneHotEncoder\n",
        "from sklearn.compose import make_column_transformer\n",
        "from sklearn.pipeline import make_pipeline\n",
        "from sklearn.linear_model import LogisticRegression\n",
        "from sklearn.neighbors import KNeighborsClassifier\n",
        "from sklearn.tree import DecisionTreeClassifier\n",
        "from sklearn.metrics import confusion_matrix, accuracy_score, precision_score, recall_score, f1_score\n",
        "import pandera as pa\n",
        "from deepchecks.tabular.checks import FeatureLabelCorrelation, FeatureFeatureCorrelation\n",
        "from deepchecks.tabular import Dataset\n",
        "import warnings\n",
        "\n",
        "\n",
        "# Enable Vegafusion for better data transformation\n",
        "#aly.alt.data_transformers.enable('vegafusion')\n",
        "#alt.data_transformers.enable('vegafusion')"
      ],
      "id": "2927165e",
      "execution_count": null,
      "outputs": []
    },
    {
      "cell_type": "markdown",
      "metadata": {},
      "source": [
        "### **EDA and Visualizations**\n"
      ],
      "id": "9a3caf94"
    },
    {
      "cell_type": "code",
      "metadata": {},
      "source": [
        "#| label: tbl-patient-table\n",
        "#| tbl-cap: Description of the columns in the heart failure dataset.\n",
        "#| echo: false\n",
        "\n",
        "import pandas as pd\n",
        "\n",
        "# Load the table\n",
        "patient_table = pd.read_csv(\"tables/patient_table.csv\")\n",
        "\n",
        "# Apply CSS to left-align all columns\n",
        "patient_table.style.set_properties(**{'text-align': 'left'})"
      ],
      "id": "tbl-patient-table",
      "execution_count": null,
      "outputs": []
    },
    {
      "cell_type": "markdown",
      "metadata": {},
      "source": [
        "![Correlation heatmap-  Based on the correlation matrix graph below, all features have relatively low correlations between each other, the correlations are below 0.5, so there is no strong evidence to drop additional featues. ](figures/correlation_heatmap.png){#correlation_heatmap width=60% fig-pos=\"H\"}\n"
      ],
      "id": "344ee150"
    },
    {
      "cell_type": "code",
      "metadata": {},
      "source": [
        "#| label: tbl-missing-values\n",
        "#| tbl-cap: Number of missing values in each column of the heart failure dataset.\n",
        "#| echo: false\n",
        "\n",
        "file_path = 'data/heart_failure_clinical_records_dataset.csv'\n",
        "heart_failure_data = pd.read_csv(file_path)\n",
        "\n",
        "# Check for missing values\n",
        "missing_values = heart_failure_data.isnull().sum()\n",
        "\n",
        "# Convert to a DataFrame for better visualization\n",
        "missing_values_df = pd.DataFrame({\n",
        "    'Column': missing_values.index,\n",
        "    'Missing Values': missing_values.values\n",
        "})\n",
        "\n",
        "# Style the DataFrame to align text to the left\n",
        "missing_values_df.style.set_properties(**{'text-align': 'left'})"
      ],
      "id": "tbl-missing-values",
      "execution_count": null,
      "outputs": []
    },
    {
      "cell_type": "markdown",
      "metadata": {},
      "source": [
        "No missing values, no imputation or filling Nulls required\n"
      ],
      "id": "2ef16af2"
    },
    {
      "cell_type": "code",
      "metadata": {},
      "source": [
        "#| label: tbl-death-event-counts\n",
        "#| tbl-cap: Distribution of the target variable `DEATH_EVENT` in the heart failure dataset.\n",
        "#| echo: false\n",
        "\n",
        "import pandas as pd\n",
        "\n",
        "# Load the dataset\n",
        "file_path = 'data/heart_failure_clinical_records_dataset.csv'\n",
        "heart_failure_data = pd.read_csv(file_path)\n",
        "\n",
        "# Get value counts for DEATH_EVENT and convert to a DataFrame\n",
        "death_event_counts = heart_failure_data['DEATH_EVENT'].value_counts().reset_index()\n",
        "death_event_counts.columns = ['DEATH_EVENT', 'Count']  # Rename columns\n",
        "\n",
        "# Display the DataFrame as a table\n",
        "death_event_counts"
      ],
      "id": "tbl-death-event-counts",
      "execution_count": null,
      "outputs": []
    },
    {
      "cell_type": "markdown",
      "metadata": {},
      "source": [
        "* Dataset Size: The dataset is relatively small, with only 300 rows.\n",
        "* Class Imbalance: The target variable, DEATH_EVENT, has few examples in the \"True\" class (i.e., the event occurred), which might affect the model's ability to learn and generalize well. This class imbalance will be taken into consideration during analysis and model evaluation.\n",
        "\n",
        "\n",
        "\n",
        "## Model\n",
        "\n",
        "We compared Decision Tree, KNN, Logistic Regression, and selected Logistic Regression due to its interpretability, and ability to handle both linear and non-linear relationships between features. Logistic Regression performed better than the other two models as it works well with fewer features and is less prone to overfitting compared to more complex models like Decision Trees or KNN, especially when the data is relatively small.\n"
      ],
      "id": "332214e7"
    },
    {
      "cell_type": "code",
      "metadata": {},
      "source": [
        "heart_failure_data = pd.read_csv(file_path)\n",
        "\n",
        "heart_failure_train, heart_failure_test = train_test_split(heart_failure_data, \n",
        "                                                           train_size = 0.8, \n",
        "                                                           stratify = heart_failure_data['DEATH_EVENT'],\n",
        "                                                           random_state = 522)\n",
        "\n",
        "url_processed = 'data/processed/'\n",
        "heart_failure_train.to_csv(os.path.join(url_processed, 'heart_failure_train.csv'))\n",
        "heart_failure_test.to_csv(os.path.join(url_processed, 'heart_failure_test.csv'))\n",
        "\n",
        "# Define numeric columns\n",
        "numeric_columns = ['age', 'creatinine_phosphokinase', 'ejection_fraction', \n",
        "                   'platelets', 'serum_creatinine', 'serum_sodium', 'time']\n",
        "# List of binary columns\n",
        "binary_columns = ['anaemia', 'diabetes', 'high_blood_pressure', 'sex', 'smoking']\n",
        "\n",
        "# Convert all binary columns to True/False so they're treated as categorical data\n",
        "heart_failure_train[binary_columns] = heart_failure_train[binary_columns].astype(bool)\n",
        "heart_failure_test[binary_columns] = heart_failure_test[binary_columns].astype(bool)\n",
        "\n",
        "preprocessor = make_column_transformer(\n",
        "    (StandardScaler(), numeric_columns),\n",
        "    (OneHotEncoder(handle_unknown=\"ignore\", sparse_output=False, drop='if_binary', dtype = int), binary_columns),\n",
        "    remainder = 'passthrough'\n",
        ")"
      ],
      "id": "0d81c81d",
      "execution_count": null,
      "outputs": []
    },
    {
      "cell_type": "code",
      "metadata": {},
      "source": [
        "#| echo: false\n",
        "#| output: false\n",
        "\n",
        "pipeline = make_pipeline(\n",
        "        preprocessor, \n",
        "        LogisticRegression(random_state=522, max_iter=2000, class_weight = \"balanced\")\n",
        "    )\n",
        "\n",
        "param_grid = {\n",
        "    \"logisticregression__C\": 10.0 ** np.arange(-5, 5, 1)\n",
        "}\n",
        "\n",
        "grid_search = GridSearchCV(\n",
        "    pipeline,\n",
        "    param_grid,\n",
        "    cv=10,  \n",
        "    n_jobs=-1,  \n",
        "    return_train_score=True\n",
        ")\n",
        "\n",
        "heart_failure_fit = grid_search.fit(heart_failure_train.drop(columns=['DEATH_EVENT']), heart_failure_train['DEATH_EVENT'] )\n",
        "\n",
        "lr_best_model = grid_search.best_estimator_.named_steps['logisticregression']\n",
        "lr_best_model"
      ],
      "id": "923f1e8c",
      "execution_count": null,
      "outputs": []
    },
    {
      "cell_type": "markdown",
      "metadata": {},
      "source": [
        "Hyperparametertuning to find find the best Logistic Regression model:"
      ],
      "id": "67f5e684"
    },
    {
      "cell_type": "code",
      "metadata": {},
      "source": [
        "lr_scores = pd.DataFrame(grid_search.cv_results_).sort_values('mean_test_score', ascending = False)[['param_logisticregression__C', 'mean_test_score', 'mean_train_score']]\n",
        "logregC = lr_scores.iloc[0,0]\n",
        "logreg_cv = round(lr_scores.iloc[0,1],2)\n",
        "lr_scores.iloc[0:5]"
      ],
      "id": "6ca9986b",
      "execution_count": null,
      "outputs": []
    },
    {
      "cell_type": "markdown",
      "metadata": {},
      "source": [
        "**The model is performing well with C = {python} logregC\\ with a CV score of {python} logreg_cv\\ and is close to train score, indicating that model is generalising well.**\n",
        "\n",
        "![Cross-validation scores for Logistic Regression -  Logistic regression performs better than Decision tree and KNN on the cross validation data, hence, we selected it as our final model.](figures/lr_cv_scores.png){#fig-lr_cv_scores width=60% fig-pos=\"H\"}\n",
        "\n",
        "\n",
        "\n",
        "\n",
        "The best features to train our model are show in @tbl-top-features:\n"
      ],
      "id": "86b9e8a1"
    },
    {
      "cell_type": "code",
      "metadata": {},
      "source": [
        "#| label: tbl-top-features\n",
        "#| tbl-cap: Top features for trainig the model.\n",
        "#| echo: false\n",
        "\n",
        "features = lr_best_model.coef_\n",
        "feature_names = heart_failure_train.drop(columns=['DEATH_EVENT']).columns\n",
        "coefficients = pd.DataFrame({\n",
        "    'Feature': feature_names,\n",
        "    'Coefficient': features[0],\n",
        "    'Absolute_Coefficient': abs(features[0])\n",
        "}).sort_values(by='Absolute_Coefficient', ascending=False)\n",
        "\n",
        "coefficients"
      ],
      "id": "tbl-top-features",
      "execution_count": null,
      "outputs": []
    },
    {
      "cell_type": "markdown",
      "metadata": {},
      "source": [
        "## Model Evaluation\n",
        "\n",
        "#### Confusion Matrix\n"
      ],
      "id": "affe83d6"
    },
    {
      "cell_type": "code",
      "metadata": {},
      "source": [
        "#| label: tbl-confusion-matrix\n",
        "#| tbl-cap: Confusion matrix for the final model on the test dataset.\n",
        "#| echo: false\n",
        "\n",
        "import pandas as pd\n",
        "\n",
        "# Generate confusion matrix as a crosstab\n",
        "heart_failure_predictions = heart_failure_test.assign(\n",
        "    predicted=heart_failure_fit.predict(heart_failure_test)\n",
        ")\n",
        "\n",
        "cm_crosstab = pd.crosstab(\n",
        "    heart_failure_predictions['DEATH_EVENT'], \n",
        "    heart_failure_predictions['predicted'], \n",
        "    rownames=[\"Actual\"], \n",
        "    colnames=[\"Predicted\"]\n",
        ")\n",
        "TP = cm_crosstab.iloc[1,1]\n",
        "TN = cm_crosstab.iloc[0,0]\n",
        "FP = cm_crosstab.iloc[0,1]\n",
        "FN = cm_crosstab.iloc[1,0]\n",
        "\n",
        "# Render the confusion matrix as it is for correct alignment\n",
        "cm_crosstab.style.set_table_attributes(\"style='display:inline'\")"
      ],
      "id": "tbl-confusion-matrix",
      "execution_count": null,
      "outputs": []
    },
    {
      "cell_type": "code",
      "metadata": {},
      "source": [
        "#| echo: false\n",
        "#| label: tbl-model-metrics\n",
        "#| tbl-cap: Evaluation metrics for the final model.\n",
        "\n",
        "import pandas as pd\n",
        "\n",
        "# Calculate evaluation metrics\n",
        "accuracy = accuracy_score(heart_failure_predictions['DEATH_EVENT'], heart_failure_predictions['predicted'])\n",
        "precision = precision_score(heart_failure_predictions['DEATH_EVENT'], heart_failure_predictions['predicted'])\n",
        "recall = recall_score(heart_failure_predictions['DEATH_EVENT'], heart_failure_predictions['predicted'])\n",
        "f1 = f1_score(heart_failure_predictions['DEATH_EVENT'], heart_failure_predictions['predicted'])\n",
        "\n",
        "# Create a DataFrame for the metrics\n",
        "metrics_table = pd.DataFrame({\n",
        "    'Metric': ['Accuracy', 'Precision', 'Recall', 'F1 Score'],\n",
        "    'Value': [accuracy, precision, recall, f1]\n",
        "})\n",
        "\n",
        "# Round values for better readability\n",
        "metrics_table['Value'] = metrics_table['Value'].round(4)\n",
        "\n",
        "# Display the DataFrame\n",
        "metrics_table"
      ],
      "id": "tbl-model-metrics",
      "execution_count": null,
      "outputs": []
    },
    {
      "cell_type": "markdown",
      "metadata": {},
      "source": [
        "## Results and Conculsion\n",
        "\n",
        "The analysis revealed that `platelets` and `ejection_fraction` are the most important features (see @tbl-top-features) in predicting the risk of patient mortality. These features significantly impact the model's ability to assess patient risk, which is crucial for early intervention. Our model achieved a recall score of {python} recall\\ (see @tbl-model-metrics), which is a good start, but there is room for improvement, particularly in reducing the number of high risk patients the model might miss, i.e., maximising recall by minimising False Negatives.\n",
        "\n",
        "The main challenges in this project stem from class imbalance and limited data availability. With more diverse and comprehensive datasets, performance could be further enhanced. We would also like to explore other machine learning models to improve the overall accuracy.\n",
        "\n",
        "In conclusion, while the current model shows potential, there is significant opportunity to enhance its effectiveness. With improvements in data quality and model optimization, this tool could become a crucial asset in predicting patient risk and saving lives.\n"
      ],
      "id": "a1da6f27"
    }
  ],
  "metadata": {
    "kernelspec": {
      "name": "python3",
      "language": "python",
      "display_name": "Python 3 (ipykernel)",
      "path": "/Users/gurmehak/miniforge3/envs/heart_failure_analysis_project/share/jupyter/kernels/python3"
    }
  },
  "nbformat": 4,
  "nbformat_minor": 5
}